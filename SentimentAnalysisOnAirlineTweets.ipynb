{
 "cells": [
  {
   "cell_type": "code",
   "execution_count": 10,
   "id": "6dd82712",
   "metadata": {},
   "outputs": [
    {
     "name": "stderr",
     "output_type": "stream",
     "text": [
      "[nltk_data] Downloading package stopwords to\n",
      "[nltk_data]     C:\\Users\\dhair\\AppData\\Roaming\\nltk_data...\n",
      "[nltk_data]   Package stopwords is already up-to-date!\n",
      "[nltk_data] Downloading package wordnet to\n",
      "[nltk_data]     C:\\Users\\dhair\\AppData\\Roaming\\nltk_data...\n"
     ]
    }
   ],
   "source": [
    "# Import Libraries\n",
    "\n",
    "import numpy as np\n",
    "import pandas as pd\n",
    "\n",
    "import seaborn as sns\n",
    "import matplotlib.pyplot as plt    \n",
    "\n",
    "from sklearn.naive_bayes import MultinomialNB\n",
    "from sklearn.model_selection import train_test_split\n",
    "from sklearn.feature_extraction.text import CountVectorizer\n",
    "from sklearn import metrics\n",
    "\n",
    "import nltk\n",
    "nltk.download('stopwords')\n",
    "nltk.download('wordnet')\n",
    "from nltk.corpus import stopwords\n",
    "\n",
    "import warnings\n",
    "warnings.filterwarnings(\"ignore\")"
   ]
  },
  {
   "cell_type": "code",
   "execution_count": 12,
   "id": "db6972db",
   "metadata": {},
   "outputs": [
    {
     "name": "stdout",
     "output_type": "stream",
     "text": [
      "showing info https://raw.githubusercontent.com/nltk/nltk_data/gh-pages/index.xml\n"
     ]
    }
   ],
   "source": [
    "nltk.download_gui()"
   ]
  },
  {
   "cell_type": "code",
   "execution_count": 2,
   "id": "7e3960ef",
   "metadata": {},
   "outputs": [
    {
     "data": {
      "text/html": [
       "<div>\n",
       "<style scoped>\n",
       "    .dataframe tbody tr th:only-of-type {\n",
       "        vertical-align: middle;\n",
       "    }\n",
       "\n",
       "    .dataframe tbody tr th {\n",
       "        vertical-align: top;\n",
       "    }\n",
       "\n",
       "    .dataframe thead th {\n",
       "        text-align: right;\n",
       "    }\n",
       "</style>\n",
       "<table border=\"1\" class=\"dataframe\">\n",
       "  <thead>\n",
       "    <tr style=\"text-align: right;\">\n",
       "      <th></th>\n",
       "      <th>airline_sentiment</th>\n",
       "      <th>airline</th>\n",
       "      <th>text</th>\n",
       "    </tr>\n",
       "  </thead>\n",
       "  <tbody>\n",
       "    <tr>\n",
       "      <th>0</th>\n",
       "      <td>neutral</td>\n",
       "      <td>Virgin America</td>\n",
       "      <td>@VirginAmerica What @dhepburn said.</td>\n",
       "    </tr>\n",
       "    <tr>\n",
       "      <th>1</th>\n",
       "      <td>positive</td>\n",
       "      <td>Virgin America</td>\n",
       "      <td>@VirginAmerica plus you've added commercials t...</td>\n",
       "    </tr>\n",
       "    <tr>\n",
       "      <th>2</th>\n",
       "      <td>neutral</td>\n",
       "      <td>Virgin America</td>\n",
       "      <td>@VirginAmerica I didn't today... Must mean I n...</td>\n",
       "    </tr>\n",
       "    <tr>\n",
       "      <th>3</th>\n",
       "      <td>negative</td>\n",
       "      <td>Virgin America</td>\n",
       "      <td>@VirginAmerica it's really aggressive to blast...</td>\n",
       "    </tr>\n",
       "    <tr>\n",
       "      <th>4</th>\n",
       "      <td>negative</td>\n",
       "      <td>Virgin America</td>\n",
       "      <td>@VirginAmerica and it's a really big bad thing...</td>\n",
       "    </tr>\n",
       "  </tbody>\n",
       "</table>\n",
       "</div>"
      ],
      "text/plain": [
       "  airline_sentiment         airline  \\\n",
       "0           neutral  Virgin America   \n",
       "1          positive  Virgin America   \n",
       "2           neutral  Virgin America   \n",
       "3          negative  Virgin America   \n",
       "4          negative  Virgin America   \n",
       "\n",
       "                                                text  \n",
       "0                @VirginAmerica What @dhepburn said.  \n",
       "1  @VirginAmerica plus you've added commercials t...  \n",
       "2  @VirginAmerica I didn't today... Must mean I n...  \n",
       "3  @VirginAmerica it's really aggressive to blast...  \n",
       "4  @VirginAmerica and it's a really big bad thing...  "
      ]
     },
     "execution_count": 2,
     "metadata": {},
     "output_type": "execute_result"
    }
   ],
   "source": [
    "# Import data\n",
    "\n",
    "use_cols = ['airline_sentiment', 'text', 'airline']\n",
    "\n",
    "df = pd.read_csv('C:\\OnlyAssignment\\EAI6000/Tweets.csv', usecols = use_cols)\n",
    "\n",
    "df.head()"
   ]
  },
  {
   "cell_type": "code",
   "execution_count": 5,
   "id": "b4a60915",
   "metadata": {},
   "outputs": [],
   "source": [
    "# Lets process the text\n",
    "\n",
    "stop_words = stopwords.words('english')\n",
    "\n",
    "df['text_without_stopwords'] = df['text'].apply(lambda x: ' '.join([word for word in x.split() if word not in (stop_words)]))\n",
    "\n",
    "countVect = CountVectorizer(min_df= 10)\n",
    "\n",
    "binaryVector = countVect.fit_transform(df.text_without_stopwords)"
   ]
  },
  {
   "cell_type": "code",
   "execution_count": 6,
   "id": "addbf87f",
   "metadata": {},
   "outputs": [
    {
     "name": "stdout",
     "output_type": "stream",
     "text": [
      "[(10980, 1872), (3660, 1872), (10980,), (3660,)]\n"
     ]
    }
   ],
   "source": [
    "# Seperate dataset into test and train\n",
    "\n",
    "y = df.airline_sentiment\n",
    "X = binaryVector\n",
    "\n",
    "train_X, test_X, train_y, test_y = train_test_split(X, y, random_state=123)\n",
    "\n",
    "print([x.shape for x in [train_X, test_X, train_y, test_y]])"
   ]
  },
  {
   "cell_type": "code",
   "execution_count": 15,
   "id": "bf747294",
   "metadata": {},
   "outputs": [
    {
     "data": {
      "text/plain": [
       "0                      @VirginAmerica What @dhepburn said.\n",
       "1        @VirginAmerica plus added commercial experienc...\n",
       "2        @VirginAmerica I today... Must mean I need tak...\n",
       "3        @VirginAmerica really aggressive blast obnoxio...\n",
       "4                      @VirginAmerica really big bad thing\n",
       "                               ...                        \n",
       "14635     @AmericanAir thank got different flight Chicago.\n",
       "14636    @AmericanAir leaving 20 minute Late Flight. No...\n",
       "14637    @AmericanAir Please bring American Airlines #B...\n",
       "14638    @AmericanAir money, change flight, answer phon...\n",
       "14639    @AmericanAir 8 ppl need 2 know many seat next ...\n",
       "Name: text, Length: 14640, dtype: object"
      ]
     },
     "execution_count": 15,
     "metadata": {},
     "output_type": "execute_result"
    }
   ],
   "source": [
    "from nltk.stem import WordNetLemmatizer\n",
    "lemmatizer = WordNetLemmatizer()\n",
    "\n",
    "def removeStopWords(text):\n",
    "    text = text.split()\n",
    "    swords = set(stopwords.words(\"english\"))\n",
    "    text = [w for w in text if w not in swords]\n",
    "    text = \" \".join(text)    \n",
    "    return text\n",
    "\n",
    "def lemmateWords(text):\n",
    "    text = text.split()\n",
    "    text = [lemmatizer.lemmatize(w) for w in text]\n",
    "    text = \" \".join(text)\n",
    "    return text\n",
    "\n",
    "df['text'] = df['text'].apply(lambda twt: removeStopWords(twt))\n",
    "df['text'] = df['text'].apply(lambda twt: lemmateWords(twt))\n",
    "df['text']"
   ]
  },
  {
   "cell_type": "code",
   "execution_count": 16,
   "id": "9e3eb5cb",
   "metadata": {},
   "outputs": [
    {
     "name": "stdout",
     "output_type": "stream",
     "text": [
      "Accuracy:  0.7808743169398907 \n",
      "\n",
      "Confusion Matrix:\n",
      " [[2015  304   76]\n",
      " [ 186  430   60]\n",
      " [ 111   65  413]]\n"
     ]
    }
   ],
   "source": [
    "# Now for testing the naive bayes model\n",
    "\n",
    "MNB = MultinomialNB()\n",
    "MNB.fit(train_X, train_y)\n",
    "\n",
    "predicted = MNB.predict(test_X)\n",
    "accuracy_score = metrics.accuracy_score(predicted, test_y)\n",
    "confusion_count = metrics.confusion_matrix(predicted, test_y)\n",
    "\n",
    "\n",
    "print('Accuracy: ',accuracy_score,'\\n')\n",
    "print('Confusion Matrix:\\n',confusion_count)"
   ]
  },
  {
   "cell_type": "code",
   "execution_count": 17,
   "id": "dd8c0893",
   "metadata": {},
   "outputs": [
    {
     "data": {
      "image/png": "[encoded data removed]",
      "text/plain": [
       "<Figure size 640x480 with 2 Axes>"
      ]
     },
     "metadata": {},
     "output_type": "display_data"
    }
   ],
   "source": [
    "# Lets plot the results properly\n",
    "\n",
    "confusion = metrics.confusion_matrix(predicted, test_y, normalize = 'true')\n",
    "\n",
    "ax= plt.subplot()\n",
    "sns.heatmap(confusion, annot=True, fmt='g', ax=ax);  #annot=True to annotate cells, ftm='g' to disable scientific notation\n",
    "\n",
    "# labels, title and ticks\n",
    "ax.set_xlabel('Predicted labels');ax.set_ylabel('True labels'); \n",
    "ax.set_title('Confusion Matrix'); \n",
    "ax.xaxis.set_ticklabels(['negative', 'neutral', 'positive']); ax.yaxis.set_ticklabels(['negative', 'neutral', 'positive']);"
   ]
  },
  {
   "cell_type": "code",
   "execution_count": 18,
   "id": "cc537875",
   "metadata": {},
   "outputs": [
    {
     "name": "stdout",
     "output_type": "stream",
     "text": [
      "Negative words:\n",
      " ['united' 'flight' 'usairways' 'americanair' 'southwestair' 'jetblue'\n",
      " 'get' 'cancelled' 'service' 'hours' 'hold' 'can' 'customer' 'help' 'time'\n",
      " 'plane' 'amp' 'delayed' 'still' 'you' 'us' 'co' 'one' 'call' 'http']\n",
      "\n",
      "Positive words:\n",
      " ['jetblue' 'united' 'southwestair' 'flight' 'co' 'http' 'americanair'\n",
      " 'usairways' 'get' 'please' 'flights' 'virginamerica' 'need' 'thanks'\n",
      " 'help' 'can' 'dm' 'would' 'know' 'it' 'our' 'fleek' 'fleet' 'us' 'you']\n"
     ]
    }
   ],
   "source": [
    "# Lets look for the most important words\n",
    "\n",
    "neg_class_prob_sorted = MNB.feature_log_prob_[0, :].argsort()[::-1]\n",
    "pos_class_prob_sorted = MNB.feature_log_prob_[1, :].argsort()[::-1]\n",
    "\n",
    "print('Negative words:\\n', np.take(countVect.get_feature_names(), neg_class_prob_sorted[:25]))\n",
    "print('\\nPositive words:\\n', np.take(countVect.get_feature_names(), pos_class_prob_sorted[:25]))"
   ]
  },
  {
   "cell_type": "code",
   "execution_count": 19,
   "id": "c837bc9a",
   "metadata": {},
   "outputs": [
    {
     "data": {
      "text/html": [
       "<div>\n",
       "<style scoped>\n",
       "    .dataframe tbody tr th:only-of-type {\n",
       "        vertical-align: middle;\n",
       "    }\n",
       "\n",
       "    .dataframe tbody tr th {\n",
       "        vertical-align: top;\n",
       "    }\n",
       "\n",
       "    .dataframe thead th {\n",
       "        text-align: right;\n",
       "    }\n",
       "</style>\n",
       "<table border=\"1\" class=\"dataframe\">\n",
       "  <thead>\n",
       "    <tr style=\"text-align: right;\">\n",
       "      <th>airline_sentiment</th>\n",
       "      <th>negative</th>\n",
       "      <th>neutral</th>\n",
       "      <th>positive</th>\n",
       "    </tr>\n",
       "    <tr>\n",
       "      <th>airline</th>\n",
       "      <th></th>\n",
       "      <th></th>\n",
       "      <th></th>\n",
       "    </tr>\n",
       "  </thead>\n",
       "  <tbody>\n",
       "    <tr>\n",
       "      <th>American</th>\n",
       "      <td>1960</td>\n",
       "      <td>463</td>\n",
       "      <td>336</td>\n",
       "    </tr>\n",
       "    <tr>\n",
       "      <th>Delta</th>\n",
       "      <td>955</td>\n",
       "      <td>723</td>\n",
       "      <td>544</td>\n",
       "    </tr>\n",
       "    <tr>\n",
       "      <th>Southwest</th>\n",
       "      <td>1186</td>\n",
       "      <td>664</td>\n",
       "      <td>570</td>\n",
       "    </tr>\n",
       "    <tr>\n",
       "      <th>US Airways</th>\n",
       "      <td>2263</td>\n",
       "      <td>381</td>\n",
       "      <td>269</td>\n",
       "    </tr>\n",
       "    <tr>\n",
       "      <th>United</th>\n",
       "      <td>2633</td>\n",
       "      <td>697</td>\n",
       "      <td>492</td>\n",
       "    </tr>\n",
       "    <tr>\n",
       "      <th>Virgin America</th>\n",
       "      <td>181</td>\n",
       "      <td>171</td>\n",
       "      <td>152</td>\n",
       "    </tr>\n",
       "  </tbody>\n",
       "</table>\n",
       "</div>"
      ],
      "text/plain": [
       "airline_sentiment  negative  neutral  positive\n",
       "airline                                       \n",
       "American               1960      463       336\n",
       "Delta                   955      723       544\n",
       "Southwest              1186      664       570\n",
       "US Airways             2263      381       269\n",
       "United                 2633      697       492\n",
       "Virgin America          181      171       152"
      ]
     },
     "execution_count": 19,
     "metadata": {},
     "output_type": "execute_result"
    }
   ],
   "source": [
    "#These words show a number of airline names so lets compare this with the positive / negative associations for each airline.\n",
    "\n",
    "piv = df.pivot_table(index=['airline'], columns='airline_sentiment', aggfunc='size', fill_value=0)\n",
    "piv"
   ]
  },
  {
   "cell_type": "code",
   "execution_count": 20,
   "id": "1b5906f3",
   "metadata": {},
   "outputs": [
    {
     "data": {
      "image/png": "[encoded data removed]",
      "text/plain": [
       "<Figure size 640x480 with 1 Axes>"
      ]
     },
     "metadata": {},
     "output_type": "display_data"
    }
   ],
   "source": [
    "piv.plot(kind='bar')\n",
    "plt.show()"
   ]
  }
 ],
 "metadata": {
  "kernelspec": {
   "display_name": "Python 3 (ipykernel)",
   "language": "python",
   "name": "python3"
  },
  "language_info": {
   "codemirror_mode": {
    "name": "ipython",
    "version": 3
   },
   "file_extension": ".py",
   "mimetype": "text/x-python",
   "name": "python",
   "nbconvert_exporter": "python",
   "pygments_lexer": "ipython3",
   "version": "3.10.8"
  }
 },
 "nbformat": 4,
 "nbformat_minor": 5
}
